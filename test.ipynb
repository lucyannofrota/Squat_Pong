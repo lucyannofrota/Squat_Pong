{
 "cells": [
  {
   "cell_type": "code",
   "execution_count": 26,
   "metadata": {},
   "outputs": [
    {
     "name": "stdout",
     "output_type": "stream",
     "text": [
      "[0, 1, 2, 3, 4, 5, 6, 7, 8, 9, 10, 11, 12, 13, 14, 15, 16, 17, 18, 19, 20, 21, 22, 23, 24, 25, 26, 27, 28, 29, 30]\n",
      "15.5\n",
      "[2, 3, 4, 5, 6, 7, 8, 9, 10, 11, 12, 13, 14, 15, 16, 17, 18, 19, 20, 21, 22, 23, 24, 25, 26, 27, 28, 29, 30]\n"
     ]
    }
   ],
   "source": [
    "a = []\n",
    "for i in range(31):\n",
    "    a.append(i)\n",
    "\n",
    "print(a)\n",
    "print(sum(a)/30)\n",
    "\n",
    "a.pop(0)\n",
    "a.pop(0)\n",
    "print(a)"
   ]
  },
  {
   "cell_type": "code",
   "execution_count": 29,
   "metadata": {},
   "outputs": [
    {
     "ename": "error",
     "evalue": "OpenCV(4.5.5) :-1: error: (-5:Bad argument) in function 'imshow'\n> Overload resolution failed:\n>  - mat is not a numerical tuple\n>  - Expected Ptr<cv::cuda::GpuMat> for argument 'mat'\n>  - Expected Ptr<cv::UMat> for argument 'mat'\n",
     "output_type": "error",
     "traceback": [
      "\u001b[1;31m---------------------------------------------------------------------------\u001b[0m",
      "\u001b[1;31merror\u001b[0m                                     Traceback (most recent call last)",
      "\u001b[1;32me:\\OneDrive - Universidade de Coimbra\\University\\Trabalhos\\6.º Ano\\2º Semestre\\SRI\\Squat_Pong\\test.ipynb Cell 2'\u001b[0m in \u001b[0;36m<cell line: 14>\u001b[1;34m()\u001b[0m\n\u001b[0;32m     <a href='vscode-notebook-cell:/e%3A/OneDrive%20-%20Universidade%20de%20Coimbra/University/Trabalhos/6.%C2%BA%20Ano/2%C2%BA%20Semestre/SRI/Squat_Pong/test.ipynb#ch0000003?line=12'>13</a>\u001b[0m \u001b[39mwhile\u001b[39;00m \u001b[39m1\u001b[39m:\n\u001b[0;32m     <a href='vscode-notebook-cell:/e%3A/OneDrive%20-%20Universidade%20de%20Coimbra/University/Trabalhos/6.%C2%BA%20Ano/2%C2%BA%20Semestre/SRI/Squat_Pong/test.ipynb#ch0000003?line=13'>14</a>\u001b[0m     frame \u001b[39m=\u001b[39m cap\u001b[39m.\u001b[39mread()\n\u001b[1;32m---> <a href='vscode-notebook-cell:/e%3A/OneDrive%20-%20Universidade%20de%20Coimbra/University/Trabalhos/6.%C2%BA%20Ano/2%C2%BA%20Semestre/SRI/Squat_Pong/test.ipynb#ch0000003?line=15'>16</a>\u001b[0m     cv2\u001b[39m.\u001b[39;49mimshow(\u001b[39m\"\u001b[39;49m\u001b[39mFrame\u001b[39;49m\u001b[39m\"\u001b[39;49m, frame)\n",
      "\u001b[1;31merror\u001b[0m: OpenCV(4.5.5) :-1: error: (-5:Bad argument) in function 'imshow'\n> Overload resolution failed:\n>  - mat is not a numerical tuple\n>  - Expected Ptr<cv::cuda::GpuMat> for argument 'mat'\n>  - Expected Ptr<cv::UMat> for argument 'mat'\n"
     ]
    }
   ],
   "source": [
    "import cv2\n",
    "import time\n",
    "# from imutils.video import FileVideoStream\n",
    "\n",
    "\n",
    "cap = cv2.VideoCapture(0)\n",
    "cap.set(3, 1280)  # width\n",
    "cap.set(4, 720)  # height\n",
    "# fvs = FileVideoStream(\"test.mp4\").start()\n",
    "\n",
    "time.sleep(1.0)\n",
    "\n",
    "while 1:\n",
    "    frame = cap.read()\n",
    "\n",
    "    cv2.imshow(\"Frame\", frame)"
   ]
  }
 ],
 "metadata": {
  "interpreter": {
   "hash": "7c1febc50634e8e447119544c2861945e26d8c4f55d05eef39e5541e980881a9"
  },
  "kernelspec": {
   "display_name": "Python 3.8.12 ('pong')",
   "language": "python",
   "name": "python3"
  },
  "language_info": {
   "codemirror_mode": {
    "name": "ipython",
    "version": 3
   },
   "file_extension": ".py",
   "mimetype": "text/x-python",
   "name": "python",
   "nbconvert_exporter": "python",
   "pygments_lexer": "ipython3",
   "version": "3.8.12"
  },
  "orig_nbformat": 4
 },
 "nbformat": 4,
 "nbformat_minor": 2
}
